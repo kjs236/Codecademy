{
 "cells": [
  {
   "cell_type": "code",
   "execution_count": 39,
   "id": "8c2512a7-3abd-4442-b357-8782cbeb3ec7",
   "metadata": {},
   "outputs": [],
   "source": [
    "# names of hurricanes\n",
    "names = ['Cuba I', 'San Felipe II Okeechobee', 'Bahamas', 'Cuba II', 'CubaBrownsville', 'Tampico', 'Labor Day', 'New England', 'Carol', 'Janet', 'Carla', 'Hattie', 'Beulah', 'Camille', 'Edith', 'Anita', 'David', 'Allen', 'Gilbert', 'Hugo', 'Andrew', 'Mitch', 'Isabel', 'Ivan', 'Emily', 'Katrina', 'Rita', 'Wilma', 'Dean', 'Felix', 'Matthew', 'Irma', 'Maria', 'Michael']\n",
    "\n",
    "# months of hurricanes\n",
    "months = ['October', 'September', 'September', 'November', 'August', 'September', 'September', 'September', 'September', 'September', 'September', 'October', 'September', 'August', 'September', 'September', 'August', 'August', 'September', 'September', 'August', 'October', 'September', 'September', 'July', 'August', 'September', 'October', 'August', 'September', 'October', 'September', 'September', 'October']\n",
    "\n",
    "# years of hurricanes\n",
    "years = [1924, 1928, 1932, 1932, 1933, 1933, 1935, 1938, 1953, 1955, 1961, 1961, 1967, 1969, 1971, 1977, 1979, 1980, 1988, 1989, 1992, 1998, 2003, 2004, 2005, 2005, 2005, 2005, 2007, 2007, 2016, 2017, 2017, 2018]\n",
    "\n",
    "# maximum sustained winds (mph) of hurricanes\n",
    "max_sustained_winds = [165, 160, 160, 175, 160, 160, 185, 160, 160, 175, 175, 160, 160, 175, 160, 175, 175, 190, 185, 160, 175, 180, 165, 165, 160, 175, 180, 185, 175, 175, 165, 180, 175, 160]\n",
    "\n",
    "# areas affected by each hurricane\n",
    "areas_affected = [['Central America', 'Mexico', 'Cuba', 'Florida', 'The Bahamas'], ['Lesser Antilles', 'The Bahamas', 'United States East Coast', 'Atlantic Canada'], ['The Bahamas', 'Northeastern United States'], ['Lesser Antilles', 'Jamaica', 'Cayman Islands', 'Cuba', 'The Bahamas', 'Bermuda'], ['The Bahamas', 'Cuba', 'Florida', 'Texas', 'Tamaulipas'], ['Jamaica', 'Yucatn Peninsula'], ['The Bahamas', 'Florida', 'Georgia', 'The Carolinas', 'Virginia'], ['Southeastern United States', 'Northeastern United States', 'Southwestern Quebec'], ['Bermuda', 'New England', 'Atlantic Canada'], ['Lesser Antilles', 'Central America'], ['Texas', 'Louisiana', 'Midwestern United States'], ['Central America'], ['The Caribbean', 'Mexico', 'Texas'], ['Cuba', 'United States Gulf Coast'], ['The Caribbean', 'Central America', 'Mexico', 'United States Gulf Coast'], ['Mexico'], ['The Caribbean', 'United States East coast'], ['The Caribbean', 'Yucatn Peninsula', 'Mexico', 'South Texas'], ['Jamaica', 'Venezuela', 'Central America', 'Hispaniola', 'Mexico'], ['The Caribbean', 'United States East Coast'], ['The Bahamas', 'Florida', 'United States Gulf Coast'], ['Central America', 'Yucatn Peninsula', 'South Florida'], ['Greater Antilles', 'Bahamas', 'Eastern United States', 'Ontario'], ['The Caribbean', 'Venezuela', 'United States Gulf Coast'], ['Windward Islands', 'Jamaica', 'Mexico', 'Texas'], ['Bahamas', 'United States Gulf Coast'], ['Cuba', 'United States Gulf Coast'], ['Greater Antilles', 'Central America', 'Florida'], ['The Caribbean', 'Central America'], ['Nicaragua', 'Honduras'], ['Antilles', 'Venezuela', 'Colombia', 'United States East Coast', 'Atlantic Canada'], ['Cape Verde', 'The Caribbean', 'British Virgin Islands', 'U.S. Virgin Islands', 'Cuba', 'Florida'], ['Lesser Antilles', 'Virgin Islands', 'Puerto Rico', 'Dominican Republic', 'Turks and Caicos Islands'], ['Central America', 'United States Gulf Coast (especially Florida Panhandle)']]\n",
    "\n",
    "# damages (USD($)) of hurricanes\n",
    "damages = ['Damages not recorded', '100M', 'Damages not recorded', '40M', '27.9M', '5M', 'Damages not recorded', '306M', '2M', '65.8M', '326M', '60.3M', '208M', '1.42B', '25.4M', 'Damages not recorded', '1.54B', '1.24B', '7.1B', '10B', '26.5B', '6.2B', '5.37B', '23.3B', '1.01B', '125B', '12B', '29.4B', '1.76B', '720M', '15.1B', '64.8B', '91.6B', '25.1B']\n",
    "\n",
    "# deaths for each hurricane\n",
    "deaths = [90, 4000, 16, 3103, 179, 184,408, 682, 5, 1023, 43, 319, 688, 259, 37, 11, 2068, 269, 318, 107, 65, 19325, 51, 124, 17, 1836, 125, 87, 45, 133, 603, 138, 3057, 74]\n",
    "\n",
    "# 1\n",
    "# Update Recorded Damages\n",
    "conversion = {\"M\": 1000000,\n",
    "              \"B\": 1000000000}"
   ]
  },
  {
   "cell_type": "code",
   "execution_count": 40,
   "id": "32750789-4e9b-43f3-ae1d-aeb565f5c5f0",
   "metadata": {},
   "outputs": [],
   "source": [
    "updated_damages = []\n",
    "for damage in damages:\n",
    "    if damage == 'Damages not recorded':\n",
    "        updated_damages.append('Damages not recorded')\n",
    "    elif damage[-1] == \"M\":\n",
    "        updated_damages.append(float(damage[:-1]) * 1000000)\n",
    "    else:\n",
    "        updated_damages.append(float(damage[:-1]) * 1000000000) "
   ]
  },
  {
   "cell_type": "code",
   "execution_count": 42,
   "id": "0f2af143-9c7b-450e-9931-e33d000a3762",
   "metadata": {},
   "outputs": [],
   "source": [
    "combined_info = {}\n",
    "for name, month, year, wind, areas, damage, death in zip(names, months, years, max_sustained_winds, areas_affected, updated_damages, deaths):\n",
    "    stats = { \"Name\": name, \"Month\": month, \"Year\": year, \"Max Sustained Winds\": wind, \"Affected Areas\": areas, \"Damages\": damage, \"Death Count\": death }\n",
    "    combined_info[name] = stats\n"
   ]
  },
  {
   "cell_type": "code",
   "execution_count": 43,
   "id": "f1ef4a9b-7f86-4023-ad32-515e03944b2c",
   "metadata": {},
   "outputs": [],
   "source": [
    "def year_list(combined_info):\n",
    "    hurricanes_by_year = {}\n",
    "    for entry in combined_info.values(): \n",
    "        current_year = entry.get('Year')\n",
    "        if current_year not in hurricanes_by_year:# Check if the year is already a key\n",
    "            hurricanes_by_year[current_year] = [entry]  # Append to the existing list\n",
    "        else:\n",
    "            hurricanes_by_year[current_year].append(entry)  # Initialize the list for the new year\n",
    "    return hurricanes_by_year"
   ]
  },
  {
   "cell_type": "code",
   "execution_count": 44,
   "id": "15ceb586-e96f-4fb3-93f2-7f415a96b0d2",
   "metadata": {},
   "outputs": [],
   "source": [
    "def affected_areas_total(areas_affected):\n",
    "    affected_areas_count = {}\n",
    "    for hurricane in areas_affected:\n",
    "        for area in hurricane:\n",
    "            if area not in affected_areas_count:\n",
    "                count = 1\n",
    "                affected_areas_count[area] = count\n",
    "            else:\n",
    "                count += 1\n",
    "                affected_areas_count[area] = count          \n",
    "    return affected_areas_count        "
   ]
  },
  {
   "cell_type": "code",
   "execution_count": 45,
   "id": "6046853a-4d01-42b6-8570-c9ce1c21ee82",
   "metadata": {},
   "outputs": [],
   "source": [
    "def high_area(affected_areas_count):\n",
    "\n",
    "    curr_region = \"Central America\"\n",
    "    curr_amount = 0\n",
    "    \n",
    "    for region, amount in affected_areas_count.items():  \n",
    "        if amount > curr_amount:\n",
    "            curr_region = region\n",
    "            curr_amount = amount\n",
    "    print(\"The \" + curr_region + \" area has been affected by the most hurricanes: \" + str(curr_amount))"
   ]
  },
  {
   "cell_type": "code",
   "execution_count": 46,
   "id": "2a7a1156-fc9f-4549-8dc3-37b1e82ed3e9",
   "metadata": {},
   "outputs": [],
   "source": [
    "death_list = list(zip(names, deaths))"
   ]
  },
  {
   "cell_type": "code",
   "execution_count": 47,
   "id": "d46fc099-90af-4411-a416-b882e510b872",
   "metadata": {},
   "outputs": [
    {
     "name": "stdout",
     "output_type": "stream",
     "text": [
      "The Michael hurricane killed the most people with a total of 19325 deaths.\n"
     ]
    }
   ],
   "source": [
    "region = \"Central America\"\n",
    "death_count = 0\n",
    "\n",
    "for region, deaths in death_list:\n",
    "    if deaths > death_count:\n",
    "        death_count = deaths\n",
    "\n",
    "print(\"The \" + region + \" hurricane killed the most people with a total of \" + str(death_count) + \" deaths.\")"
   ]
  },
  {
   "cell_type": "code",
   "execution_count": 48,
   "id": "7d142ac0-6daf-4782-aa4b-cde16bc49e90",
   "metadata": {},
   "outputs": [],
   "source": [
    "def dmg_list(combined_info):\n",
    "    hurricanes_by_mortality = {0:[],1:[],2:[],3:[],4:[],5:[]}\n",
    "    for entry in combined_info.values(): \n",
    "        current_deaths = entry.get('Death Count')\n",
    "        if current_deaths == 0:\n",
    "            hurricanes_by_mortality[0].append(entry)\n",
    "        elif current_deaths <= 100:\n",
    "            hurricanes_by_mortality[1].append(entry)\n",
    "        elif current_deaths <= 500:\n",
    "            hurricanes_by_mortality[2].append(entry)\n",
    "        elif current_deaths <= 1000:\n",
    "            hurricanes_by_mortality[3].append(entry)\n",
    "        elif current_deaths <= 10000:\n",
    "            hurricanes_by_mortality[4].append(entry)\n",
    "        else:\n",
    "            hurricanes_by_mortality[5].append(entry)\n",
    "    return hurricanes_by_mortality"
   ]
  },
  {
   "cell_type": "code",
   "execution_count": 49,
   "id": "7b8d7890-d2d2-4760-85c5-3c2814f34960",
   "metadata": {},
   "outputs": [
    {
     "name": "stdout",
     "output_type": "stream",
     "text": [
      "The hurricane by the name of Maria did the most damage, totalling 91.6B dollars.\n"
     ]
    }
   ],
   "source": [
    "dmg_list = list(zip(names, damages))\n",
    "\n",
    "hurricane_name = \"Michael\"\n",
    "dmg_amount = '1M'\n",
    "\n",
    "for hurricane, damage in dmg_list:\n",
    "    if damage == \"No damages recorded\":\n",
    "        hurricane_name = hurricane_name\n",
    "        dmg_amount = dmg_amount\n",
    "    elif damage[-1] == 'B':\n",
    "        if damage[:-1] > dmg_amount[:-1]:\n",
    "            dmg_amount = damage\n",
    "            hurricane_name = hurricane\n",
    "    else:\n",
    "        hurricane_name = hurricane_name\n",
    "        dmg_amount = dmg_amount\n",
    "print(\"The hurricane by the name of \" + hurricane_name + \" did the most damage, totalling \" + dmg_amount + \" dollars.\")"
   ]
  },
  {
   "cell_type": "code",
   "execution_count": 52,
   "id": "4b32a2a2-af9c-4e8b-a720-4248d876b61a",
   "metadata": {},
   "outputs": [],
   "source": [
    "def dmg_tiers(combined_info):\n",
    "    hurricanes_by_dmg = {0:[],1:[],2:[],3:[],4:[],5:[]}\n",
    "    for entry in combined_info.values(): \n",
    "        current_dmg = entry.get('Damages')\n",
    "        if current_dmg == 'Damages not recorded':\n",
    "            hurricanes_by_dmg[0].append(entry)\n",
    "        elif float(current_dmg) <= 100000000:\n",
    "            hurricanes_by_dmg[1].append(entry)\n",
    "        elif float(current_dmg) <= 1000000000:\n",
    "            hurricanes_by_dmg[2].append(entry)\n",
    "        elif float(current_dmg) <= 10000000000:\n",
    "            hurricanes_by_dmg[3].append(entry)\n",
    "        elif float(current_dmg) <= 50000000000:\n",
    "            hurricanes_by_dmg[4].append(entry)\n",
    "        else:\n",
    "            hurricanes_by_dmg[5].append(entry)\n",
    "    return hurricanes_by_dmg"
   ]
  },
  {
   "cell_type": "code",
   "execution_count": 54,
   "id": "4236d5c3-3d79-40fb-8b79-a8e6698dad32",
   "metadata": {},
   "outputs": [
    {
     "name": "stdout",
     "output_type": "stream",
     "text": [
      "{0: [{'Name': 'Cuba I', 'Month': 'October', 'Year': 1924, 'Max Sustained Winds': 165, 'Affected Areas': ['Central America', 'Mexico', 'Cuba', 'Florida', 'The Bahamas'], 'Damages': 'Damages not recorded', 'Death Count': 90}, {'Name': 'Bahamas', 'Month': 'September', 'Year': 1932, 'Max Sustained Winds': 160, 'Affected Areas': ['The Bahamas', 'Northeastern United States'], 'Damages': 'Damages not recorded', 'Death Count': 16}, {'Name': 'Labor Day', 'Month': 'September', 'Year': 1935, 'Max Sustained Winds': 185, 'Affected Areas': ['The Bahamas', 'Florida', 'Georgia', 'The Carolinas', 'Virginia'], 'Damages': 'Damages not recorded', 'Death Count': 408}, {'Name': 'Anita', 'Month': 'September', 'Year': 1977, 'Max Sustained Winds': 175, 'Affected Areas': ['Mexico'], 'Damages': 'Damages not recorded', 'Death Count': 11}], 1: [{'Name': 'San Felipe II Okeechobee', 'Month': 'September', 'Year': 1928, 'Max Sustained Winds': 160, 'Affected Areas': ['Lesser Antilles', 'The Bahamas', 'United States East Coast', 'Atlantic Canada'], 'Damages': 100000000.0, 'Death Count': 4000}, {'Name': 'Cuba II', 'Month': 'November', 'Year': 1932, 'Max Sustained Winds': 175, 'Affected Areas': ['Lesser Antilles', 'Jamaica', 'Cayman Islands', 'Cuba', 'The Bahamas', 'Bermuda'], 'Damages': 40000000.0, 'Death Count': 3103}, {'Name': 'CubaBrownsville', 'Month': 'August', 'Year': 1933, 'Max Sustained Winds': 160, 'Affected Areas': ['The Bahamas', 'Cuba', 'Florida', 'Texas', 'Tamaulipas'], 'Damages': 27900000.0, 'Death Count': 179}, {'Name': 'Tampico', 'Month': 'September', 'Year': 1933, 'Max Sustained Winds': 160, 'Affected Areas': ['Jamaica', 'Yucatn Peninsula'], 'Damages': 5000000.0, 'Death Count': 184}, {'Name': 'Carol', 'Month': 'September', 'Year': 1953, 'Max Sustained Winds': 160, 'Affected Areas': ['Bermuda', 'New England', 'Atlantic Canada'], 'Damages': 2000000.0, 'Death Count': 5}, {'Name': 'Janet', 'Month': 'September', 'Year': 1955, 'Max Sustained Winds': 175, 'Affected Areas': ['Lesser Antilles', 'Central America'], 'Damages': 65800000.0, 'Death Count': 1023}, {'Name': 'Hattie', 'Month': 'October', 'Year': 1961, 'Max Sustained Winds': 160, 'Affected Areas': ['Central America'], 'Damages': 60300000.0, 'Death Count': 319}, {'Name': 'Edith', 'Month': 'September', 'Year': 1971, 'Max Sustained Winds': 160, 'Affected Areas': ['The Caribbean', 'Central America', 'Mexico', 'United States Gulf Coast'], 'Damages': 25400000.0, 'Death Count': 37}], 2: [{'Name': 'New England', 'Month': 'September', 'Year': 1938, 'Max Sustained Winds': 160, 'Affected Areas': ['Southeastern United States', 'Northeastern United States', 'Southwestern Quebec'], 'Damages': 306000000.0, 'Death Count': 682}, {'Name': 'Carla', 'Month': 'September', 'Year': 1961, 'Max Sustained Winds': 175, 'Affected Areas': ['Texas', 'Louisiana', 'Midwestern United States'], 'Damages': 326000000.0, 'Death Count': 43}, {'Name': 'Beulah', 'Month': 'September', 'Year': 1967, 'Max Sustained Winds': 160, 'Affected Areas': ['The Caribbean', 'Mexico', 'Texas'], 'Damages': 208000000.0, 'Death Count': 688}, {'Name': 'Felix', 'Month': 'September', 'Year': 2007, 'Max Sustained Winds': 175, 'Affected Areas': ['Nicaragua', 'Honduras'], 'Damages': 720000000.0, 'Death Count': 133}], 3: [{'Name': 'Camille', 'Month': 'August', 'Year': 1969, 'Max Sustained Winds': 175, 'Affected Areas': ['Cuba', 'United States Gulf Coast'], 'Damages': 1420000000.0, 'Death Count': 259}, {'Name': 'David', 'Month': 'August', 'Year': 1979, 'Max Sustained Winds': 175, 'Affected Areas': ['The Caribbean', 'United States East coast'], 'Damages': 1540000000.0, 'Death Count': 2068}, {'Name': 'Allen', 'Month': 'August', 'Year': 1980, 'Max Sustained Winds': 190, 'Affected Areas': ['The Caribbean', 'Yucatn Peninsula', 'Mexico', 'South Texas'], 'Damages': 1240000000.0, 'Death Count': 269}, {'Name': 'Gilbert', 'Month': 'September', 'Year': 1988, 'Max Sustained Winds': 185, 'Affected Areas': ['Jamaica', 'Venezuela', 'Central America', 'Hispaniola', 'Mexico'], 'Damages': 7100000000.0, 'Death Count': 318}, {'Name': 'Hugo', 'Month': 'September', 'Year': 1989, 'Max Sustained Winds': 160, 'Affected Areas': ['The Caribbean', 'United States East Coast'], 'Damages': 10000000000.0, 'Death Count': 107}, {'Name': 'Mitch', 'Month': 'October', 'Year': 1998, 'Max Sustained Winds': 180, 'Affected Areas': ['Central America', 'Yucatn Peninsula', 'South Florida'], 'Damages': 6200000000.0, 'Death Count': 19325}, {'Name': 'Isabel', 'Month': 'September', 'Year': 2003, 'Max Sustained Winds': 165, 'Affected Areas': ['Greater Antilles', 'Bahamas', 'Eastern United States', 'Ontario'], 'Damages': 5370000000.0, 'Death Count': 51}, {'Name': 'Emily', 'Month': 'July', 'Year': 2005, 'Max Sustained Winds': 160, 'Affected Areas': ['Windward Islands', 'Jamaica', 'Mexico', 'Texas'], 'Damages': 1010000000.0, 'Death Count': 17}, {'Name': 'Dean', 'Month': 'August', 'Year': 2007, 'Max Sustained Winds': 175, 'Affected Areas': ['The Caribbean', 'Central America'], 'Damages': 1760000000.0, 'Death Count': 45}], 4: [{'Name': 'Andrew', 'Month': 'August', 'Year': 1992, 'Max Sustained Winds': 175, 'Affected Areas': ['The Bahamas', 'Florida', 'United States Gulf Coast'], 'Damages': 26500000000.0, 'Death Count': 65}, {'Name': 'Ivan', 'Month': 'September', 'Year': 2004, 'Max Sustained Winds': 165, 'Affected Areas': ['The Caribbean', 'Venezuela', 'United States Gulf Coast'], 'Damages': 23300000000.0, 'Death Count': 124}, {'Name': 'Rita', 'Month': 'September', 'Year': 2005, 'Max Sustained Winds': 180, 'Affected Areas': ['Cuba', 'United States Gulf Coast'], 'Damages': 12000000000.0, 'Death Count': 125}, {'Name': 'Wilma', 'Month': 'October', 'Year': 2005, 'Max Sustained Winds': 185, 'Affected Areas': ['Greater Antilles', 'Central America', 'Florida'], 'Damages': 29400000000.0, 'Death Count': 87}, {'Name': 'Matthew', 'Month': 'October', 'Year': 2016, 'Max Sustained Winds': 165, 'Affected Areas': ['Antilles', 'Venezuela', 'Colombia', 'United States East Coast', 'Atlantic Canada'], 'Damages': 15100000000.0, 'Death Count': 603}, {'Name': 'Michael', 'Month': 'October', 'Year': 2018, 'Max Sustained Winds': 160, 'Affected Areas': ['Central America', 'United States Gulf Coast (especially Florida Panhandle)'], 'Damages': 25100000000.0, 'Death Count': 74}], 5: [{'Name': 'Katrina', 'Month': 'August', 'Year': 2005, 'Max Sustained Winds': 175, 'Affected Areas': ['Bahamas', 'United States Gulf Coast'], 'Damages': 125000000000.0, 'Death Count': 1836}, {'Name': 'Irma', 'Month': 'September', 'Year': 2017, 'Max Sustained Winds': 180, 'Affected Areas': ['Cape Verde', 'The Caribbean', 'British Virgin Islands', 'U.S. Virgin Islands', 'Cuba', 'Florida'], 'Damages': 64800000000.0, 'Death Count': 138}, {'Name': 'Maria', 'Month': 'September', 'Year': 2017, 'Max Sustained Winds': 175, 'Affected Areas': ['Lesser Antilles', 'Virgin Islands', 'Puerto Rico', 'Dominican Republic', 'Turks and Caicos Islands'], 'Damages': 91600000000.0, 'Death Count': 3057}]}\n"
     ]
    }
   ],
   "source": [
    "print(dmg_tiers(combined_info))"
   ]
  },
  {
   "cell_type": "code",
   "execution_count": null,
   "id": "e90bb9bf-0843-4361-9570-95ee2857b721",
   "metadata": {},
   "outputs": [],
   "source": []
  }
 ],
 "metadata": {
  "kernelspec": {
   "display_name": "Python 3 (ipykernel)",
   "language": "python",
   "name": "python3"
  },
  "language_info": {
   "codemirror_mode": {
    "name": "ipython",
    "version": 3
   },
   "file_extension": ".py",
   "mimetype": "text/x-python",
   "name": "python",
   "nbconvert_exporter": "python",
   "pygments_lexer": "ipython3",
   "version": "3.12.4"
  }
 },
 "nbformat": 4,
 "nbformat_minor": 5
}
