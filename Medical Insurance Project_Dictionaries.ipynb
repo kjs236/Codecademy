{
 "cells": [
  {
   "cell_type": "code",
   "execution_count": 6,
   "id": "2c9a1ab1-10a1-41a9-99c4-a00181238be4",
   "metadata": {},
   "outputs": [
    {
     "name": "stdout",
     "output_type": "stream",
     "text": [
      "{'Marina': 6607.0, 'Vinay': 3225.0, 'Connie': 8886.0, 'Isaac': 16444.0, 'Valentina': 6420.0}\n"
     ]
    }
   ],
   "source": [
    "medical_costs = {}\n",
    "medical_costs[\"Marina\"] = 6607.0\n",
    "medical_costs[\"Vinay\"] = 3225.0\n",
    "medical_costs.update({\"Connie\": 8886.0, \"Isaac\": 16444.0, \"Valentina\": 6420.0})\n",
    "print(medical_costs)"
   ]
  },
  {
   "cell_type": "code",
   "execution_count": 14,
   "id": "e7d0d2fd-ebfa-418c-b956-259605a22617",
   "metadata": {},
   "outputs": [],
   "source": [
    "medical_costs[\"Vinay\"] = 3325.0\n",
    "\n",
    "total_cost = 0\n",
    "for cost in medical_costs.values():\n",
    "    total_cost += cost"
   ]
  },
  {
   "cell_type": "code",
   "execution_count": 18,
   "id": "03f094df-4738-4441-81c7-7ca0395ce1cb",
   "metadata": {},
   "outputs": [
    {
     "name": "stdout",
     "output_type": "stream",
     "text": [
      "8336.4\n"
     ]
    }
   ],
   "source": [
    "average_cost = total_cost / len(medical_costs)\n",
    "print(average_cost)"
   ]
  },
  {
   "cell_type": "code",
   "execution_count": 30,
   "id": "58dc0546-d7c1-4f01-84d6-4958e61d8fe2",
   "metadata": {},
   "outputs": [],
   "source": [
    "names = [\"Marina\", \"Vinay\", \"Connie\", \"Isaac\", \"Valentina\"]\n",
    "ages = [27, 24, 43, 35, 52]\n",
    "zipped_ages = zip(names, ages)\n",
    "names_to_ages = { key: value for key, value in zipped_ages}"
   ]
  },
  {
   "cell_type": "code",
   "execution_count": 32,
   "id": "f089cdd0-0cd6-432f-88af-5d2d7754703b",
   "metadata": {},
   "outputs": [
    {
     "name": "stdout",
     "output_type": "stream",
     "text": [
      "{'Marina': 27, 'Vinay': 24, 'Connie': 43, 'Isaac': 35, 'Valentina': 52}\n"
     ]
    }
   ],
   "source": [
    "print(names_to_ages)"
   ]
  },
  {
   "cell_type": "code",
   "execution_count": 36,
   "id": "b37a89fe-43d7-4b03-8715-0f9de778d4f3",
   "metadata": {},
   "outputs": [
    {
     "name": "stdout",
     "output_type": "stream",
     "text": [
      "Marina's age is 27\n"
     ]
    }
   ],
   "source": [
    "marina_age = names_to_ages.get(\"Marina\", None)\n",
    "print(\"Marina's age is \" + str(marina_age))"
   ]
  },
  {
   "cell_type": "code",
   "execution_count": 38,
   "id": "af9f9d6a-2101-451e-aa52-1081c44e7cd5",
   "metadata": {},
   "outputs": [],
   "source": [
    "medical_records = {}"
   ]
  },
  {
   "cell_type": "code",
   "execution_count": 42,
   "id": "8c51323f-4767-4373-8ae7-52f311c2acf6",
   "metadata": {},
   "outputs": [],
   "source": [
    "medical_records[\"Marina\"] = {\"Age\": 27, \"Sex\": \"Female\", \"BMI\": 31.1, \"Children\": 2, \"Smoker\": \"Non-smoker\", \"Insurance_cost\": 6607.0}"
   ]
  },
  {
   "cell_type": "code",
   "execution_count": 44,
   "id": "42bcd577-6e3e-4c67-9ac6-2ed0084b7d6d",
   "metadata": {},
   "outputs": [
    {
     "name": "stdout",
     "output_type": "stream",
     "text": [
      "{'Marina': {'Age': 27, 'Sex': 'Female', 'BMI': 31.1, 'Children': 2, 'Smoker': 'Non-smoker', 'Insurance_cost': 6607.0}, 'Vinay': {'Age': 24, 'Sex': 'Male', 'BMI': 26.9, 'Children': 0, 'Smoker': 'Non-smoker', 'Insurance_cost': 3225.0}, 'Connie': {'Age': 43, 'Sex': 'Female', 'BMI': 25.3, 'Children': 3, 'Smoker': 'Non-smoker', 'Insurance_cost': 8886.0}, 'Isaac': {'Age': 35, 'Sex': 'Male', 'BMI': 20.6, 'Children': 4, 'Smoker': 'Smoker', 'Insurance_cost': 16444.0}, 'Valentina': {'Age': 52, 'Sex': 'Female', 'BMI': 18.7, 'Children': 1, 'Smoker': 'Non-smoker', 'Insurance_cost': 6420.0}}\n"
     ]
    }
   ],
   "source": [
    "medical_records[\"Vinay\"] = {\"Age\": 24, \"Sex\": \"Male\", \"BMI\": 26.9, \"Children\": 0, \"Smoker\": \"Non-smoker\", \"Insurance_cost\": 3225.0}\n",
    "medical_records[\"Connie\"] = {\"Age\": 43, \"Sex\": \"Female\", \"BMI\": 25.3, \"Children\": 3, \"Smoker\": \"Non-smoker\", \"Insurance_cost\": 8886.0}\n",
    "medical_records[\"Isaac\"] = {\"Age\": 35, \"Sex\": \"Male\", \"BMI\": 20.6, \"Children\": 4, \"Smoker\": \"Smoker\", \"Insurance_cost\": 16444.0}\n",
    "medical_records[\"Valentina\"] = {\"Age\": 52, \"Sex\": \"Female\", \"BMI\": 18.7, \"Children\": 1, \"Smoker\": \"Non-smoker\", \"Insurance_cost\": 6420.0}\n",
    "print(medical_records)"
   ]
  },
  {
   "cell_type": "code",
   "execution_count": 46,
   "id": "93d100a9-b7cf-4612-ab10-aa5da4e67669",
   "metadata": {},
   "outputs": [
    {
     "name": "stdout",
     "output_type": "stream",
     "text": [
      "Connie's insurance cost is 8886.0 dollars.\n"
     ]
    }
   ],
   "source": [
    "print(\"Connie's insurance cost is \" + str(medical_records[\"Connie\"][\"Insurance_cost\"]) + \" dollars.\")"
   ]
  },
  {
   "cell_type": "code",
   "execution_count": 48,
   "id": "17871fab-8961-452a-af58-ff390c95ffb2",
   "metadata": {},
   "outputs": [
    {
     "data": {
      "text/plain": [
       "{'Age': 24,\n",
       " 'Sex': 'Male',\n",
       " 'BMI': 26.9,\n",
       " 'Children': 0,\n",
       " 'Smoker': 'Non-smoker',\n",
       " 'Insurance_cost': 3225.0}"
      ]
     },
     "execution_count": 48,
     "metadata": {},
     "output_type": "execute_result"
    }
   ],
   "source": [
    "medical_records.pop(\"Vinay\")"
   ]
  },
  {
   "cell_type": "code",
   "execution_count": 52,
   "id": "42c36b0c-27fb-407d-a5a9-e09db98c8fb7",
   "metadata": {},
   "outputs": [
    {
     "name": "stdout",
     "output_type": "stream",
     "text": [
      "{'Marina': {'Age': 27, 'Sex': 'Female', 'BMI': 31.1, 'Children': 2, 'Smoker': 'Non-smoker', 'Insurance_cost': 6607.0}, 'Connie': {'Age': 43, 'Sex': 'Female', 'BMI': 25.3, 'Children': 3, 'Smoker': 'Non-smoker', 'Insurance_cost': 8886.0}, 'Isaac': {'Age': 35, 'Sex': 'Male', 'BMI': 20.6, 'Children': 4, 'Smoker': 'Smoker', 'Insurance_cost': 16444.0}, 'Valentina': {'Age': 52, 'Sex': 'Female', 'BMI': 18.7, 'Children': 1, 'Smoker': 'Non-smoker', 'Insurance_cost': 6420.0}}\n"
     ]
    }
   ],
   "source": [
    "print(medical_records)"
   ]
  },
  {
   "cell_type": "code",
   "execution_count": 54,
   "id": "2e4f54ba-7b22-471e-8632-323b37c540b8",
   "metadata": {},
   "outputs": [
    {
     "name": "stdout",
     "output_type": "stream",
     "text": [
      "Marina is a 27 year old Female Non-smoker with a BMI of 31.1 and insurance cost of 6607.0\n",
      "Connie is a 43 year old Female Non-smoker with a BMI of 25.3 and insurance cost of 8886.0\n",
      "Isaac is a 35 year old Male Smoker with a BMI of 20.6 and insurance cost of 16444.0\n",
      "Valentina is a 52 year old Female Non-smoker with a BMI of 18.7 and insurance cost of 6420.0\n"
     ]
    }
   ],
   "source": [
    "for name, record in medical_records.items():\n",
    "  print(name + \" is a \" + str(record[\"Age\"]) + \\\n",
    "  \" year old \" + record[\"Sex\"] + \" \" + record[\"Smoker\"] \\\n",
    "  + \" with a BMI of \" + str(record[\"BMI\"]) + \\\n",
    "  \" and insurance cost of \" + str(record[\"Insurance_cost\"]))\n",
    "    "
   ]
  },
  {
   "cell_type": "code",
   "execution_count": null,
   "id": "3ce70a11-d2cf-4492-937e-c9a6d1ce48bd",
   "metadata": {},
   "outputs": [],
   "source": []
  }
 ],
 "metadata": {
  "kernelspec": {
   "display_name": "Python 3 (ipykernel)",
   "language": "python",
   "name": "python3"
  },
  "language_info": {
   "codemirror_mode": {
    "name": "ipython",
    "version": 3
   },
   "file_extension": ".py",
   "mimetype": "text/x-python",
   "name": "python",
   "nbconvert_exporter": "python",
   "pygments_lexer": "ipython3",
   "version": "3.12.4"
  }
 },
 "nbformat": 4,
 "nbformat_minor": 5
}
