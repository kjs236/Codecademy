{
 "cells": [
  {
   "cell_type": "code",
   "execution_count": 16,
   "id": "fbdaa00b-1a73-49e2-a2f8-0fd8818fb18d",
   "metadata": {},
   "outputs": [],
   "source": [
    "# y = m*x + b\n",
    "def get_y(m, b, x):\n",
    "    return (m * x) + b"
   ]
  },
  {
   "cell_type": "code",
   "execution_count": 18,
   "id": "71f49eed-7d65-4f5a-b400-af9e3fc942f6",
   "metadata": {},
   "outputs": [
    {
     "name": "stdout",
     "output_type": "stream",
     "text": [
      "True\n",
      "True\n"
     ]
    }
   ],
   "source": [
    "print(get_y(1, 0, 7) == 7)\n",
    "print(get_y(5, 10, 3) == 25)"
   ]
  },
  {
   "cell_type": "code",
   "execution_count": 20,
   "id": "28946162-b952-4106-8e72-5f2bae7c9146",
   "metadata": {},
   "outputs": [],
   "source": [
    "def calculate_error(m, b, point):\n",
    "    x_point = point[0]\n",
    "    y_point = point[-1]\n",
    "    return abs(get_y(m, b, x_point) - y_point)"
   ]
  },
  {
   "cell_type": "code",
   "execution_count": 22,
   "id": "692547af-417e-449f-9b7f-8905ccf90384",
   "metadata": {},
   "outputs": [
    {
     "name": "stdout",
     "output_type": "stream",
     "text": [
      "0\n",
      "1\n",
      "1\n",
      "5\n"
     ]
    }
   ],
   "source": [
    "#this is a line that looks like y = x, so (3, 3) should lie on it. thus, error should be 0:\n",
    "print(calculate_error(1, 0, (3, 3)))\n",
    "#the point (3, 4) should be 1 unit away from the line y = x:\n",
    "print(calculate_error(1, 0, (3, 4)))\n",
    "#the point (3, 3) should be 1 unit away from the line y = x - 1:\n",
    "print(calculate_error(1, -1, (3, 3)))\n",
    "#the point (3, 3) should be 5 units away from the line y = -x + 1:\n",
    "print(calculate_error(-1, 1, (3, 3)))"
   ]
  },
  {
   "cell_type": "code",
   "execution_count": 94,
   "id": "8c5e694c-e27d-415e-86ea-a35b4c979736",
   "metadata": {},
   "outputs": [],
   "source": [
    "def calculate_all_error(m, b, points):\n",
    "    total_error = 0\n",
    "    for point in points:\n",
    "       total_error += calculate_error(m, b, point)\n",
    "    return total_error"
   ]
  },
  {
   "cell_type": "code",
   "execution_count": 96,
   "id": "de3deda9-0af8-4f9a-80e3-bcc41205e055",
   "metadata": {},
   "outputs": [
    {
     "name": "stdout",
     "output_type": "stream",
     "text": [
      "0\n",
      "4\n",
      "4\n",
      "18\n"
     ]
    }
   ],
   "source": [
    "#every point in this dataset lies upon y=x, so the total error should be zero:\n",
    "datapoints = [(1, 1), (3, 3), (5, 5), (-1, -1)]\n",
    "print(calculate_all_error(1, 0, datapoints))\n",
    "\n",
    "#every point in this dataset is 1 unit away from y = x + 1, so the total error should be 4:\n",
    "datapoints = [(1, 1), (3, 3), (5, 5), (-1, -1)]\n",
    "print(calculate_all_error(1, 1, datapoints))\n",
    "\n",
    "#every point in this dataset is 1 unit away from y = x - 1, so the total error should be 4:\n",
    "datapoints = [(1, 1), (3, 3), (5, 5), (-1, -1)]\n",
    "print(calculate_all_error(1, -1, datapoints))\n",
    "\n",
    "\n",
    "#the points in this dataset are 1, 5, 9, and 3 units away from y = -x + 1, respectively, so total error should be\n",
    "# 1 + 5 + 9 + 3 = 18\n",
    "datapoints = [(1, 1), (3, 3), (5, 5), (-1, -1)]\n",
    "print(calculate_all_error(-1, 1, datapoints))"
   ]
  },
  {
   "cell_type": "code",
   "execution_count": 98,
   "id": "fdf90cc0-00b7-4008-aaed-40fa4a50b8a2",
   "metadata": {},
   "outputs": [],
   "source": [
    "possible_ms = [m/10 for m in range(-100, 101)]"
   ]
  },
  {
   "cell_type": "code",
   "execution_count": 100,
   "id": "fab1a353-cd20-4802-9675-48bd31d59d7b",
   "metadata": {},
   "outputs": [],
   "source": [
    "possible_bs = [b/10 for b in range(-200, 201)]"
   ]
  },
  {
   "cell_type": "code",
   "execution_count": 110,
   "id": "ad22c846-169c-484a-9dae-861a9a7d2878",
   "metadata": {},
   "outputs": [
    {
     "name": "stdout",
     "output_type": "stream",
     "text": [
      "Final Best m: 0.4, Best b: 1.6, Smallest error: 5.0\n"
     ]
    }
   ],
   "source": [
    "datapoints = [(1, 2), (2, 0), (3, 4), (4, 4), (5, 3)]\n",
    "\n",
    "smallest_error = float('inf')\n",
    "best_m = 0\n",
    "best_b = 0\n",
    "\n",
    "for m in possible_ms:\n",
    "    for b in possible_bs:\n",
    "        error = calculate_all_error(m, b, datapoints)\n",
    "        if error < smallest_error:\n",
    "            best_m = m\n",
    "            best_b = b\n",
    "            smallest_error = error\n",
    "            \n",
    "\n",
    "print(f\"Final Best m: {best_m}, Best b: {best_b}, Smallest error: {smallest_error}\")"
   ]
  },
  {
   "cell_type": "code",
   "execution_count": 114,
   "id": "01f5d7e2-9a12-4f64-8758-8ab6384f117e",
   "metadata": {},
   "outputs": [
    {
     "name": "stdout",
     "output_type": "stream",
     "text": [
      "4.0\n"
     ]
    }
   ],
   "source": [
    "print(get_y(0.4, 1.6, 6))"
   ]
  },
  {
   "cell_type": "code",
   "execution_count": null,
   "id": "6c5dafa8-8757-41de-a470-1a945fc30003",
   "metadata": {},
   "outputs": [],
   "source": []
  }
 ],
 "metadata": {
  "kernelspec": {
   "display_name": "Python 3 (ipykernel)",
   "language": "python",
   "name": "python3"
  },
  "language_info": {
   "codemirror_mode": {
    "name": "ipython",
    "version": 3
   },
   "file_extension": ".py",
   "mimetype": "text/x-python",
   "name": "python",
   "nbconvert_exporter": "python",
   "pygments_lexer": "ipython3",
   "version": "3.12.4"
  }
 },
 "nbformat": 4,
 "nbformat_minor": 5
}
